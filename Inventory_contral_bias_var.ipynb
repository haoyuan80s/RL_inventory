{
 "cells": [
  {
   "cell_type": "code",
   "execution_count": 198,
   "metadata": {
    "collapsed": true
   },
   "outputs": [],
   "source": [
    "%matplotlib inline\n",
    "\n",
    "import matplotlib\n",
    "import numpy as np\n",
    "import matplotlib.pyplot as plt"
   ]
  },
  {
   "cell_type": "markdown",
   "metadata": {},
   "source": [
    "In the Model v1, we input our own policy"
   ]
  },
  {
   "cell_type": "code",
   "execution_count": 215,
   "metadata": {
    "collapsed": true
   },
   "outputs": [],
   "source": [
    "class Model_v1: # random ordering capacity\n",
    "    def __init__(self,x0,T,policy):\n",
    "        self.T = T\n",
    "        self.cost = np.zeros(T)\n",
    "        self.state = np.zeros(T)\n",
    "        self.state[0] = x0\n",
    "        self.action = np.zeros(T)\n",
    "        self.policy = policy\n",
    "    \n",
    "    def simulation(self, n = 1):    \n",
    "        def trans(x,a):\n",
    "            def get_demand():\n",
    "                return np.random.rand() # random demand ~ Unif[0,1]\n",
    "            def get_ordering_capaticy():\n",
    "                return np.random.rand() + 0.1 # Unif[0.1,1.1]\n",
    "            d = get_demand()\n",
    "            c = get_ordering_capaticy()\n",
    "            o = min(c,a)\n",
    "            x = x + o - d\n",
    "            cost = hb_cost(x)\n",
    "            return x, cost\n",
    "        \n",
    "        def hb_cost(x):\n",
    "            h = 10\n",
    "            b = 20\n",
    "            return max(x,0) * h + max(-x,0) * b \n",
    "        \n",
    "        for i in range(self.T - 1):\n",
    "            x = self.state[i]\n",
    "            a = self.policy(x)\n",
    "            self.state[i+1], self.cost[i] = trans(x,a)"
   ]
  },
  {
   "cell_type": "code",
   "execution_count": 216,
   "metadata": {
    "collapsed": false
   },
   "outputs": [
    {
     "data": {
      "text/plain": [
       "[<matplotlib.lines.Line2D at 0x10a25db00>]"
      ]
     },
     "execution_count": 216,
     "metadata": {},
     "output_type": "execute_result"
    },
    {
     "data": {
      "image/png": "[encoded data removed]",
      "text/plain": [
       "<matplotlib.figure.Figure at 0x1099b2da0>"
      ]
     },
     "metadata": {},
     "output_type": "display_data"
    }
   ],
   "source": [
    "def policy(x): # a target 1 policy\n",
    "    return 1 - x\n",
    "\n",
    "m1 = Model_v1(0,1000,policy)\n",
    "m1.simulation()\n",
    "plt.plot(m1.cost)"
   ]
  },
  {
   "cell_type": "markdown",
   "metadata": {},
   "source": [
    "Given a distribution of demand and capciaty. How can we find the optimal solution."
   ]
  },
  {
   "cell_type": "code",
   "execution_count": null,
   "metadata": {
    "collapsed": true
   },
   "outputs": [],
   "source": []
  },
  {
   "cell_type": "markdown",
   "metadata": {},
   "source": [
    "Try and draft!!!"
   ]
  },
  {
   "cell_type": "code",
   "execution_count": 157,
   "metadata": {
    "collapsed": false
   },
   "outputs": [],
   "source": [
    "class MyClass:\n",
    "    i = 12345\n",
    "    \n",
    "    def g(self):\n",
    "        \n",
    "        \n",
    "        return ff()\n",
    "        def ff():\n",
    "            return 'hello world'"
   ]
  },
  {
   "cell_type": "code",
   "execution_count": 138,
   "metadata": {
    "collapsed": false
   },
   "outputs": [
    {
     "data": {
      "text/plain": [
       "(1, 2)"
      ]
     },
     "execution_count": 138,
     "metadata": {},
     "output_type": "execute_result"
    }
   ],
   "source": [
    "# draft\n",
    "\n",
    "class Model:\n",
    "    def __init__(self,x0,T):\n",
    "        self.x0 = x0\n",
    "        self.T = T\n",
    "        self.cost = np.zeros(T)\n",
    "        self.state = np.zeros(T)\n",
    "        self.state[0] = x0\n",
    "        self.action = np.zeros(T)\n",
    "    \n",
    "    def simulation(self, n = 1):\n",
    "        \n",
    "        def trans(x,a):\n",
    "            def get_demand():\n",
    "                return np.random.rand() # random demand ~ Unif[0,1]\n",
    "            def get_ordering_capaticy():\n",
    "                return np.random.rand() # Unif[0,1]\n",
    "            d = get_demand()\n",
    "            c = get_ordering_capaticy()\n",
    "            o = min(c,a)\n",
    "            x = x + o - d\n",
    "            cost = hb_cost(x)\n",
    "            return x, cost\n",
    "        def hb_cost(x):\n",
    "            h = 10\n",
    "            b = 20\n",
    "            return max(x,0) * h + max(-x,0) * b \n",
    "        def policy(state):\n",
    "            return 0.5\n",
    "        \n",
    "        \n",
    "        for i in range(self.T - 1):\n",
    "            x = self.state[i]\n",
    "            a = policy(x)\n",
    "            self.state[i+1], self.cost[i] = trans(x,a)"
   ]
  }
 ],
 "metadata": {
  "kernelspec": {
   "display_name": "Python 3",
   "language": "python",
   "name": "python3"
  },
  "language_info": {
   "codemirror_mode": {
    "name": "ipython",
    "version": 3
   },
   "file_extension": ".py",
   "mimetype": "text/x-python",
   "name": "python",
   "nbconvert_exporter": "python",
   "pygments_lexer": "ipython3",
   "version": "3.5.1"
  }
 },
 "nbformat": 4,
 "nbformat_minor": 0
}
